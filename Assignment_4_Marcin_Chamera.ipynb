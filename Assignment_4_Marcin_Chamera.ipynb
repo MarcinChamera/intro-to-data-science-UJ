{
 "cells": [
  {
   "cell_type": "markdown",
   "metadata": {
    "id": "G7lXAW1PyScu"
   },
   "source": [
    "### Today we are going to perform the simple classification of the amazon reviews' sentiment.\n",
    "\n",
    "### Please, download the dataset amazon_baby.csv."
   ]
  },
  {
   "cell_type": "code",
   "execution_count": 1,
   "metadata": {
    "colab": {
     "base_uri": "https://localhost:8080/",
     "height": 204
    },
    "id": "N_U_K9S6ySc1",
    "outputId": "f2bcca15-1bef-4993-e583-57f7e37f85dd"
   },
   "outputs": [
    {
     "data": {
      "text/html": [
       "<div>\n",
       "<style scoped>\n",
       "    .dataframe tbody tr th:only-of-type {\n",
       "        vertical-align: middle;\n",
       "    }\n",
       "\n",
       "    .dataframe tbody tr th {\n",
       "        vertical-align: top;\n",
       "    }\n",
       "\n",
       "    .dataframe thead th {\n",
       "        text-align: right;\n",
       "    }\n",
       "</style>\n",
       "<table border=\"1\" class=\"dataframe\">\n",
       "  <thead>\n",
       "    <tr style=\"text-align: right;\">\n",
       "      <th></th>\n",
       "      <th>name</th>\n",
       "      <th>review</th>\n",
       "      <th>rating</th>\n",
       "    </tr>\n",
       "  </thead>\n",
       "  <tbody>\n",
       "    <tr>\n",
       "      <th>0</th>\n",
       "      <td>Planetwise Flannel Wipes</td>\n",
       "      <td>These flannel wipes are OK, but in my opinion ...</td>\n",
       "      <td>3</td>\n",
       "    </tr>\n",
       "    <tr>\n",
       "      <th>1</th>\n",
       "      <td>Planetwise Wipe Pouch</td>\n",
       "      <td>it came early and was not disappointed. i love...</td>\n",
       "      <td>5</td>\n",
       "    </tr>\n",
       "    <tr>\n",
       "      <th>2</th>\n",
       "      <td>Annas Dream Full Quilt with 2 Shams</td>\n",
       "      <td>Very soft and comfortable and warmer than it l...</td>\n",
       "      <td>5</td>\n",
       "    </tr>\n",
       "    <tr>\n",
       "      <th>3</th>\n",
       "      <td>Stop Pacifier Sucking without tears with Thumb...</td>\n",
       "      <td>This is a product well worth the purchase.  I ...</td>\n",
       "      <td>5</td>\n",
       "    </tr>\n",
       "    <tr>\n",
       "      <th>4</th>\n",
       "      <td>Stop Pacifier Sucking without tears with Thumb...</td>\n",
       "      <td>All of my kids have cried non-stop when I trie...</td>\n",
       "      <td>5</td>\n",
       "    </tr>\n",
       "  </tbody>\n",
       "</table>\n",
       "</div>"
      ],
      "text/plain": [
       "                                                name  \\\n",
       "0                           Planetwise Flannel Wipes   \n",
       "1                              Planetwise Wipe Pouch   \n",
       "2                Annas Dream Full Quilt with 2 Shams   \n",
       "3  Stop Pacifier Sucking without tears with Thumb...   \n",
       "4  Stop Pacifier Sucking without tears with Thumb...   \n",
       "\n",
       "                                              review  rating  \n",
       "0  These flannel wipes are OK, but in my opinion ...       3  \n",
       "1  it came early and was not disappointed. i love...       5  \n",
       "2  Very soft and comfortable and warmer than it l...       5  \n",
       "3  This is a product well worth the purchase.  I ...       5  \n",
       "4  All of my kids have cried non-stop when I trie...       5  "
      ]
     },
     "execution_count": 1,
     "metadata": {},
     "output_type": "execute_result"
    }
   ],
   "source": [
    "import pandas as pd\n",
    "import numpy as np\n",
    "import matplotlib.pyplot as plt\n",
    "import string\n",
    "from sklearn.linear_model import LogisticRegression\n",
    "\n",
    "def remove_punctuation(text):\n",
    "    import string\n",
    "    translator = str.maketrans('', '', string.punctuation)\n",
    "    # translate() method returns a copy of the string in\n",
    "    # which all characters have been translated using table\n",
    "    # (constructed with the maketrans() function in the string module)\n",
    "    return text.translate(translator)\n",
    "\n",
    "# from google.colab import files\n",
    "# uploaded = files.upload()\n",
    "# import io\n",
    "# baby_df = pd.read_csv(io.BytesIO(uploaded['amazon_baby.csv']))\n",
    "baby_df = pd.read_csv('amazon_baby.csv')\n",
    "baby_df.head()"
   ]
  },
  {
   "cell_type": "markdown",
   "metadata": {
    "id": "nF-IkkFmySc-"
   },
   "source": [
    "## Exercise 1 (data preparation)\n",
    "a) Remove punctuation from reviews using the given function.   \n",
    "b) Replace all missing (nan) revies with empty \"\" string.  \n",
    "c) Drop all the entries with rating = 3, as they have neutral sentiment.   \n",
    "d) Set all positive ($\\geq$4) ratings to 1 and negative($\\leq$2) to -1."
   ]
  },
  {
   "cell_type": "code",
   "execution_count": 2,
   "metadata": {
    "colab": {
     "base_uri": "https://localhost:8080/"
    },
    "id": "qUjdWovHySc_",
    "outputId": "06896083-e866-4375-cb3a-e1b13e64a133"
   },
   "outputs": [
    {
     "data": {
      "text/plain": [
       "True"
      ]
     },
     "execution_count": 2,
     "metadata": {},
     "output_type": "execute_result"
    }
   ],
   "source": [
    "#a)\n",
    "baby_df['review'] = remove_punctuation(baby_df['review'].str)\n",
    "#short test: \n",
    "baby_df[\"review\"][4] == 'All of my kids have cried nonstop when I tried to ween them off their pacifier until I found Thumbuddy To Loves Binky Fairy Puppet  It is an easy way to work with your kids to allow them to understand where their pacifier is going and help them part from itThis is a must buy book and a great gift for expecting parents  You will save them soo many headachesThanks for this book  You all rock'\n",
    "remove_punctuation(baby_df[\"review\"][4]) == 'All of my kids have cried nonstop when I tried to ween them off their pacifier until I found Thumbuddy To Loves Binky Fairy Puppet  It is an easy way to work with your kids to allow them to understand where their pacifier is going and help them part from itThis is a must buy book and a great gift for expecting parents  You will save them soo many headachesThanks for this book  You all rock'"
   ]
  },
  {
   "cell_type": "code",
   "execution_count": 3,
   "metadata": {
    "colab": {
     "base_uri": "https://localhost:8080/"
    },
    "id": "UpCNnFXdySdC",
    "outputId": "fba85ccc-a775-48b0-b593-b6efc2afc666"
   },
   "outputs": [
    {
     "data": {
      "text/plain": [
       "True"
      ]
     },
     "execution_count": 3,
     "metadata": {},
     "output_type": "execute_result"
    }
   ],
   "source": [
    "#b)\n",
    "# baby_df['rating'].value_counts()\n",
    "baby_df['review'] = baby_df['review'].replace(np.nan, '', regex=True)\n",
    "#short test:\n",
    "baby_df[\"review\"][38] == baby_df[\"review\"][38]\n"
   ]
  },
  {
   "cell_type": "code",
   "execution_count": 4,
   "metadata": {
    "colab": {
     "base_uri": "https://localhost:8080/"
    },
    "id": "1itodf5sySdG",
    "outputId": "8b5a0516-f8f3-4f8d-ac66-1d8047a49860"
   },
   "outputs": [
    {
     "data": {
      "text/plain": [
       "0"
      ]
     },
     "execution_count": 4,
     "metadata": {},
     "output_type": "execute_result"
    }
   ],
   "source": [
    "#c)\n",
    "baby_df = baby_df[baby_df.rating != 3]\n",
    "#short test:\n",
    "sum(baby_df[\"rating\"] == 3)"
   ]
  },
  {
   "cell_type": "code",
   "execution_count": 5,
   "metadata": {
    "colab": {
     "base_uri": "https://localhost:8080/"
    },
    "id": "C5XVsTqmySdK",
    "outputId": "211c6c7e-6ea5-4f5c-92c0-70f1a0e5b4ba"
   },
   "outputs": [
    {
     "data": {
      "text/plain": [
       "0"
      ]
     },
     "execution_count": 5,
     "metadata": {},
     "output_type": "execute_result"
    }
   ],
   "source": [
    "#d) \n",
    "baby_df.loc[baby_df['rating'] <= 2, 'rating'] = -1\n",
    "baby_df.loc[baby_df['rating'] >= 4, 'rating'] = 1\n",
    "#short test:\n",
    "sum(baby_df[\"rating\"]**2 != 1)"
   ]
  },
  {
   "cell_type": "markdown",
   "metadata": {
    "id": "LBIyxqRcySdO"
   },
   "source": [
    "## CountVectorizer\n",
    "In order to analyze strings, we need to assign them numerical values. We will use one of the simplest string representation, which transforms strings into the $n$ dimensional vectors. The number of dimensions will be the size of our dictionary, and then the values of the vector will represent the number of appereances of the given word in the sentence."
   ]
  },
  {
   "cell_type": "code",
   "execution_count": 6,
   "metadata": {
    "colab": {
     "base_uri": "https://localhost:8080/"
    },
    "id": "wvlVReD3ySdO",
    "outputId": "9e1d701d-5edd-49fb-9dbd-c856056ef076"
   },
   "outputs": [
    {
     "name": "stdout",
     "output_type": "stream",
     "text": [
      "['adore', 'and', 'apples', 'bananas', 'dislike', 'hate', 'like', 'oranges', 'they', 'we']\n",
      "[[0 0 1 0 0 0 1 0 0 1]\n",
      " [0 0 0 0 0 1 0 1 0 1]\n",
      " [1 0 0 1 0 0 0 0 0 0]\n",
      " [0 1 1 0 0 0 2 1 0 1]\n",
      " [0 0 0 1 1 0 0 0 1 0]]\n"
     ]
    }
   ],
   "source": [
    "from sklearn.feature_extraction.text import CountVectorizer\n",
    "\n",
    "vectorizer = CountVectorizer()\n",
    "reviews_train_example = [\"We like apples\",\n",
    "                   \"We hate oranges\",\n",
    "                   \"I adore bananas\",\n",
    "                   \"We like like apples and oranges\",\n",
    "                   \"They dislike bananas\"]\n",
    "\n",
    "X_train_example = vectorizer.fit_transform(reviews_train_example)\n",
    "\n",
    "print(vectorizer.get_feature_names())\n",
    "print(X_train_example.todense())\n",
    "\n"
   ]
  },
  {
   "cell_type": "code",
   "execution_count": 7,
   "metadata": {
    "colab": {
     "base_uri": "https://localhost:8080/"
    },
    "id": "3fPReLmTySdR",
    "outputId": "b59294f5-a7ef-4883-ffdd-26de96cc9ca9"
   },
   "outputs": [
    {
     "name": "stdout",
     "output_type": "stream",
     "text": [
      "[[0 0 0 1 0 0 1 0 1 0]\n",
      " [0 1 1 1 0 1 0 1 0 1]\n",
      " [0 0 0 1 0 0 0 0 0 1]]\n"
     ]
    }
   ],
   "source": [
    "reviews_test_example = [\"They like bananas\",\n",
    "                   \"We hate oranges bananas and apples\",\n",
    "                   \"We love bananas\"] #New word!\n",
    "\n",
    "X_test_example = vectorizer.transform(reviews_test_example)\n",
    "\n",
    "print(X_test_example.todense())"
   ]
  },
  {
   "cell_type": "markdown",
   "metadata": {
    "id": "ZKEhzHc8ySdV"
   },
   "source": [
    "We should acknowledge few facts. Firstly, CountVectorizer does not take order into account. Secondly, it ignores one-letter words (this can be changed during initialization). Finally, for test values, CountVectorizer ignores words which are not in it's dictionary."
   ]
  },
  {
   "cell_type": "markdown",
   "metadata": {
    "id": "yJwJIQ2vySdV"
   },
   "source": [
    "## Exercise 2 \n",
    "a) Split dataset into training and test sets.     \n",
    "b) Transform reviews into vectors using CountVectorizer. "
   ]
  },
  {
   "cell_type": "code",
   "execution_count": 101,
   "metadata": {
    "id": "8yYe2zMvySdW"
   },
   "outputs": [],
   "source": [
    "#a)\n",
    "from sklearn.model_selection import train_test_split\n",
    "train_reviews, test_reviews, train_ratings, test_ratings = train_test_split(baby_df['review'], baby_df['rating'])"
   ]
  },
  {
   "cell_type": "code",
   "execution_count": 102,
   "metadata": {
    "colab": {
     "base_uri": "https://localhost:8080/"
    },
    "id": "UEEdT4E6ySda",
    "outputId": "fe8ba312-318a-416a-bd29-f0328a3133ac"
   },
   "outputs": [],
   "source": [
    "#b)\n",
    "vectorizer = CountVectorizer()\n",
    "vectorized_train_reviews = vectorizer.fit_transform(train_reviews)\n",
    "vectorized_test_reviews = vectorizer.transform(test_reviews)"
   ]
  },
  {
   "cell_type": "markdown",
   "metadata": {
    "id": "wuSItYeyySdf"
   },
   "source": [
    "## Exercise 3 \n",
    "a) Train LogisticRegression model on training data (reviews processed with CountVectorizer, ratings as they were).   \n",
    "b) Print 10 most positive and 10 most negative words."
   ]
  },
  {
   "cell_type": "code",
   "execution_count": 103,
   "metadata": {
    "id": "0Nzx36GOySdg",
    "scrolled": true
   },
   "outputs": [
    {
     "name": "stderr",
     "output_type": "stream",
     "text": [
      "c:\\users\\datacomplex\\appdata\\local\\programs\\python\\python39\\lib\\site-packages\\sklearn\\linear_model\\_logistic.py:762: ConvergenceWarning: lbfgs failed to converge (status=1):\n",
      "STOP: TOTAL NO. of ITERATIONS REACHED LIMIT.\n",
      "\n",
      "Increase the number of iterations (max_iter) or scale the data as shown in:\n",
      "    https://scikit-learn.org/stable/modules/preprocessing.html\n",
      "Please also refer to the documentation for alternative solver options:\n",
      "    https://scikit-learn.org/stable/modules/linear_model.html#logistic-regression\n",
      "  n_iter_i = _check_optimize_result(\n"
     ]
    },
    {
     "data": {
      "text/plain": [
       "LogisticRegression()"
      ]
     },
     "execution_count": 103,
     "metadata": {},
     "output_type": "execute_result"
    }
   ],
   "source": [
    "#a)\n",
    "model = LogisticRegression()\n",
    "model.fit(vectorized_train_reviews, train_ratings)"
   ]
  },
  {
   "cell_type": "code",
   "execution_count": 104,
   "metadata": {
    "id": "QL-mmvZCySdi"
   },
   "outputs": [
    {
     "name": "stdout",
     "output_type": "stream",
     "text": [
      "Top 10 most positive words: ['pleased', 'highly', 'satisfied', 'amazing', 'awesome', 'loves', 'complaint', 'perfect', 'excellent', 'worry']\n",
      "Top 10 most negative words: ['disappointing', 'worst', 'concept', 'disappointed', 'poorly', 'useless', 'unusable', 'returning', 'worthless', 'terrible']\n"
     ]
    }
   ],
   "source": [
    "#b)\n",
    "words = sorted(list(zip(model.coef_[0], vectorizer.get_feature_names())), key=lambda x: x[0])\n",
    "print('Top 10 most positive words:', [word[1] for word in words[-10:]])\n",
    "print('Top 10 most negative words:', [word[1] for word in words[:10]])\n",
    "#hint: model.coef_, vectorizer.get_feature_names()"
   ]
  },
  {
   "cell_type": "markdown",
   "metadata": {
    "id": "vR3_F2xCySdl"
   },
   "source": [
    "## Exercise 4 \n",
    "a) Predict the sentiment of test data reviews.   \n",
    "b) Predict the sentiment of test data reviews in terms of probability.   \n",
    "c) Find five most positive and most negative reviews.   \n",
    "d) Calculate the accuracy of predictions."
   ]
  },
  {
   "cell_type": "code",
   "execution_count": 105,
   "metadata": {
    "id": "-UwXJ_aqySdm"
   },
   "outputs": [
    {
     "name": "stdout",
     "output_type": "stream",
     "text": [
      "[ 1 -1  1 ...  1  1  1]\n"
     ]
    }
   ],
   "source": [
    "#a)\n",
    "import time\n",
    "start = time.time()\n",
    "rating_predictions = model.predict(vectorized_test_reviews)\n",
    "rating_preds_time = time.time() - start\n",
    "print(rating_predictions)"
   ]
  },
  {
   "cell_type": "code",
   "execution_count": 106,
   "metadata": {
    "id": "8sqOzea0ySdo"
   },
   "outputs": [
    {
     "name": "stdout",
     "output_type": "stream",
     "text": [
      "[[3.09059218e-03 9.96909408e-01]\n",
      " [9.99996821e-01 3.17945127e-06]\n",
      " [1.68394118e-03 9.98316059e-01]\n",
      " ...\n",
      " [2.37320137e-03 9.97626799e-01]\n",
      " [8.18224235e-05 9.99918178e-01]\n",
      " [6.30142707e-03 9.93698573e-01]]\n"
     ]
    }
   ],
   "source": [
    "#b)\n",
    "# The first index refers to the probability that the data belong to class -1,\n",
    "# and the second refers to the probability that the data belong to class 1.\n",
    "rating_proba_predictions = model.predict_proba(vectorized_test_reviews)\n",
    "print(rating_proba_predictions)\n",
    "#hint: model.predict_proba()"
   ]
  },
  {
   "cell_type": "code",
   "execution_count": 107,
   "metadata": {
    "id": "y6ynsolDySdt"
   },
   "outputs": [
    {
     "name": "stdout",
     "output_type": "stream",
     "text": [
      "Top 5 most positive reviews:\n",
      "\n",
      "1. I was very excited when I heard Chicco was finally coming out with a double stroller I was initially against any double stroller I just didnt want to mess with it But when our daughter was 25 years and our son was four months we were taking a month long trip abroad and I knew we wouldnt be able to corral both kids without one The Cortina Together worked wonderfully for what we needed We already had a Chicco car seat and Trevi so we knew we liked Chicco And I wanted both kids to be able to sit comfortably I knew a sit and stand would be lighter but didnt want my twoyearold to have to stand or sit on an uncomfortable tiny seat all the time After hauling this thing all over Europe here is why I love this strollerYou can easily snap the Chicco car seat into it I love that you can place it in the front seat or back seat When we want more control of our toddler we place her in the back and baby in the front But when we are just enjoying a walk she loves sitting in the front to see better and hop in and out on her own It is also a great feature that the rear seat fully reclines This is nice for a napping toddler and makes a great bassinet for a sleeping babyThe basket underneath is very large and very accessible Adding the zippered front is a huge help to be able to access things even when the back seat is fully reclined I was able to easily carry diaper bags luggage groceries etc in that thing I also like that the basket stretches in front of the rear seat If our daughter dropped anything it caught it which is nice when you are running to catch a train and not keeping track of everythingThe canopies work well They arent large but the fact that they adjust so easily means you can keep your children covered from rain or keep the sun out of their eyes no matter what angle I also love having the two cup holders for mom and dad as well as the two cup holders on the front seat A con however is that there are no cup holders for the back seat And the two cup holders on the front can be switched which is nice But if you have them turned out you cant fold the canopy up when the stroller is folded and if you have them turned in you cant fold the front seat down to accommodate the car seat But this is super easy to adjust The seats move very easily as well  one hand adjustment The brakes and wheel locks are great and easy tooEven with its large size the stroller turns on a dime The handle bar adjusts easily for pushers of different heights Sometimes we found the stroller can be a little tricky to fold up  the lock only requires one hand but you have to maneuver the stroller just right to get it to collapse on itself When folded up though its not too huge  it easily fits in our Honda CVR no problem Its great for on the go easy to set up  no adjustments neededThe stroller proved to be very durable  considering we hauled it on and off planes and trains as well as up and down cobblestone streets and offroad Like others have said it is heavy but it is a double stroller thats what you get It is lighter than many options though My close friend has a Graco double and she is super jealous of our Chicco One other negative is theres no handle or really great place to grab the stroller to carry it when its folded up The feature that allows it to still roll when folded is nice but obviously doesnt help when you are going up stairsI truly love this stroller and I would highly recommend it to anyone Coming from one mommy who didnt especially want a double is only five feet tall and not very strong but realized she needed it I would never use another double stroller This is the way to go\n",
      "\n",
      "2. Long Review but worth the read for those who are seriously interested in purchasing the Spectra S2 or S1 In this review I will compare the Medela Lactina and Medela Symphony to the Spectra S2 Both Medela pumps are leading hospital grade pumpsMy wife and I spent a lot of time researching pricing and reading reviews for the best breast pumps Like many post hospital we rented both the Medela Lactina as well as the Medela Symphony Both pumps were good but came with a high price tag for a monthly rental upwards of 60 a month which added up fairly quickly Both are hospital grade pumps which in our honest opinions are WAY over priced Who wants to spend 150000 on a pumpWe knew that since these pumps the Medela Pumps were hospital grade that the prices would be inflated and therefore started to look at Medelas other products such as the Pump In Style Advance and the Freestyle Both have very mixed reviews but overall seem to be very popular However for the price and technology we thought there was a lot left on the table for the price They have basic features that most all pumps have controlling the vacuum but short of that pretty typical and standard for the 250400 price range We also ran into several reviews about pumps stopping after a year or two of operation We did noticed that the non hosipal grade pumps that Medela offer seem to be opened and not closed pumps Not really sure this even matters considering there will be only one user my wifeWe finally decided to go with the Spectra S2 based on the reviews video of the pump in action and its features list Coupled with all that the fact this pump is used overseas in hospitals Mostly in Asia and is much cheaper than Medelas hospital grade pumps Symphony and Lactina even beats out the price of a Pump In Style Advance and Freestyle My wife has first hand experience with both the Lactina and Symphony Having rented the Lactina for 40 days returning it and renting the Symphony for 30 daysLets talk about what this thing offers over the very expensive Symphony and Lactina hospital grade pumps Stronger Pump Action  Though the Medela pumps have adjust ability the Spectra S2 pump is much more stronger It has a smoother suctions that is stronger and more powerful than the Medelas It was very noticeable how much stronger and smoother this pump was than any of the Medela pumps we rented More options in total  This is where the Medela is left behind once again Not only does the Spectra S2 have suction control let down control which the Symphony has as well but you have several cycles you can choose from This creates a huge variety for pumping It is not just about the suction rate you have variables that you can adjust from quick suctions long suction weak to strong there is a lot you can do with the pump and its cycle settings This also aided in draining the breast much more efficiently versus both the  Medelas hospital grade pumps Symphony and Lactina which produces and promotes a good milk supply The milk output has been much better with the S2 Timer feature Might not seem like much but it is easy to loose track of time and this pump displays the duration of your pump session Nightlight feature Another small feature that aids to a huge benefit when pumping late night You can pump at night without turning on the lights and disturbing anyone else Being able to reach over and see everything control wise on the pump is also great with this light feature The light has two settings bright and not so bright  The overall design The Medela Lactina looks like a miniature oil drill turned to its side it is very ugly and unsightly It is bulky loud and uses the manual pump to operate the pumping action How on earth they can charge so much for this thing is beyond me The Medela Symphony on the other hand is much better looking it is much more quite still a bit big but it supports a good design visually and functionally it has a technical advantage to the Lactina However the Spectra S2 is designed extremely well both in the looks and functionality department Again with all the features and a nice design which is lighter and smaller than the Medela Symphony it is much better This pump was 23100 to our door We didnt bother for the tote options as we hated the idea of the Pump In Style Advance which comes built into a tote or backpack If we need to travel or she needs to take this pump with us outside of the home where she pumps only it would fit fine in one of the one million tote like bags my wife already has Plus the pump is still cheaper than the Medelas Pump In Advance Style Freestyle Lactina and Symphony Super Quite Pump  A pump is a pump and it will make some noise but this one is very quiet It sounds like a cat purring Sound wise it is the same as the Symphony if not a tad quieter Better Valves  The Medela valves can get really nasty The Spectra valves seem to be much easier to clean However we did see that the Medela Valves can work with the Spectra as well Stops Back Flow  Condensation  I noticed my wife always had issues with the Symphony and Lactina collecting condensation or milk sometimes The Spectra has a diaphragm valve which prevents this from occurringNow how about the cons The Breast Shields  My wife did not like these at all They were too small for her so we followed the advice of another reviewer who posted pictures of using the Medela shields So we did a simple modification to use her Medela Breast Shields It worked amazingly The Spectra shields do not separate like the Medela so that can be problematic if you need to upgradedowngrade the sizing Directions are pretty bad  Though it spells out all the basics it does not clue you in on the Cycle Modes which I think is important There are several cycles you can use but none seem to be documented in the information and directions that come with the pump So the first pump session my wife was slowly learning the differences of each mode Not to bad but still should be documentedOverallOverall we really got the best pump It is used widely outside the US it is hospital grade which btw I dont know what makes it hospital versus non hospital And we are very pleased with the buy I know at first we were hesitant based on the lack of popularity for this pump in the US Really there are not many reviews at all but when you do read them they are all positive and most pointed out how much better this pump was to the Medela pumps  Well this has proven to be fact My wife loves this pump it has been a huge improvement for her and her milk supply and is highly recommended She pumps regularly every 23 hours and has loved switching over to the Spectra S2\n",
      "\n",
      "3. I started wearing the Babyplus when I was 18 weeks pregnant My husband was skeptical but I figured it couldnt hurt I wore it for an hour every morning and an hour every night  I often wore it in the car since I had a 1 hour commute each way  I never found the sounds annoying  My son was born alert and calm he didnt even cry  He was such a good easy baby he really only cried if he was gassy or very hungry  Hes always had a really good disposition and people even strangers often comment about how sweet happy and easy going he is  Hes reached all his milestones early  He rolled over sat up and crawled early  He took his first steps one week shy of becoming 10 months old and was fully walking at 11 monthsIve also taught him sign language  He picked it up very quickly and he also started speaking at an early age  His language amazes me  He turned 16 months old a few days ago and can sign over 50 signs can speak over 120 words and even say 12 words in Spanish most children I know his age say less than 10 words  He can count to three and sometimes throws in a 6 or 8 while I count He knew all the body parts and not just the usual eyes ears nose but also shoulders neck elbows etc and all the animals and their sounds younger than his peers  He loves music  He LOVES books and could spend hours each day being read to or just flipping through his books on his own  Sometimes hell even say what is coming up on the next page before he or I even turn the page  He picks new things up so effortlessly  I only had to show him once for him to learn to put his dirty clothes in the hamper put his toys away in the toybox and throw garbage in the trash can  He loves to help and clean  Weve traveled with him a lot and he adjusts very well to new environments and people  Hes very smart and very sweet  Hes so good natured and such a joy to parent  I dont know how much of it was the Babyplus and how much is genetic and naturenurture but I will definitely be using the Babyplus for anyall next pregnancies  Ive even had a couple parents ask me what my secret was after being impressed by my son and I tell them I used the Babyplus  I also think the sign language and reading a lot has played an important roleI highly recommend using the Babyplus if you are pregnant or plan to become pregnantUPDATE  My son just turned 2 and is a delight  People are amazed at his language skills  He has known every letter of the alphabet all his shapes including pentagon and octagon and colors for months and can count to 20 in English and 10 in Spanish  He can identify different dinosaurs and can clearly say triceratops velociraptor stegosaurus etc  When we drive he points out bulldozers backhoe loaders car transporters etc When he hears music he can correctly identify a piano drums symbols trumpet saxophone flute etc  He will memorize a new book within a few days and reads to us  He is friendly and polite and rarely throws tantrums Ive never had to use a time out for him  He takes 3 hour naps and sleeps all night  He even tells me hes ready for nightnight and walks over to his crib  Hes just a great kidIm expecting another baby and in a few weeks will be ready to start using the BabyPlus again\n",
      "\n",
      "4. We have been using these Dr Browns bottles for a year now and are really pleased with them Our nanny or my husband uses them to give breast milk to our son when I am at work during the day  We tried both these and the Breastflow bottles when my son was about 5 weeks old and although he was after some encouragement willing to take both types of bottle we found these simpler to use To give one example we kept having to remove the milk that was getting stuck between the two nipples on the Breastflow bottles but theres no problem like this with the Dr Browns  We also thought that the venting system was really helpful in reducing the amount of air baby gulped in when bottle feeding  we had fewer problems with gas pain and didnt need to burp him too often with these bottles  Obviously this is less of an issue now that the little guy is a year old but it was really helpful when he used to get so upset about needing to burp  Though these require a different latchsucking action than breastfeeding does we have never had any nipple confusion problems  All babies are different though so you may want to try a couple of different types of bottle to see what works for your babyOne other advantage of these bottles or of ANY standard nonwideneck bottles is that the neck of the bottles is the exact same size as the bottles that come with Medela and Spectra pumps so you can pump right into these bottles and save yourself from having to clean the pump bottles  These bottles are taller than the Medela pump bottles though and too tall to fit in the bottle cooler that comes with the Medela pumps so if this would be a problem for you you either need to stick with using  the pump bottles or find a taller coolerHere are my attempts to clear up a couple of issues raised in other reviews1 A few reviewers here mentioned problems with leaks and at least in some cases I am sure the problem is that they arent using the included travel disks  When you are toting the bottles around you need to put the travel discs under the nipples to ensure the bottles are sealed and wont leak in transit  simply putting the cap over the nipple does not seal the bottles  Refer to the owners leaflet that came with the bottles as it has a very simple diagram showing you how to use the travel disks  You must remove disks before feeding baby though as they really do completely seal the bottles off  When you are using the bottle for feeding make sure you have pulled the nipple firmly into the collar of the bottle and twisted the collar firmly onto the bottle and you shouldnt have any problems with leaking in that case either  The ONE problem we had with leaking in the past year of regular use of these bottles was when a nipple got warped  you could see the slight wave in what should be the flat base of the nipple  Unfortunately our sitter didnt notice this until she went to retrieve the bottle from the bottle warmer and saw that over an ounce of milk had oozed out of the bottle as it was heating   Once we replaced that nipple we never had another leak problem  This has only happened with one bottle nipple in over a year of using our Dr Browns bottles regularly so I am very happy with how these bottles have held up2 It is true that this set doesnt include a bottle brush but it DOES include a smaller brush or maybe 2 smaller brushes  I cant remember now that is perfectly sized to clean the little vent parts that go inside the bottle and which is also handy for scrubbing out the nippleMany have mentioned that its a bit of work to clean all the parts of these bottles and its true that the extra little parts make for some extra work  On the upside the parts are wellengineered to make it easy to get to all the crevices with the included brush  Also even if you have to wash the bottles by hand I think its worth the work to prevent a gassy fussy baby  But if you really dont want to bother just buy a couple of the dishwasher basketsDr Browns Standard Dishwashing Basket Polypropyleneand put all the parts in them  All the parts including travel disks nipples vent parts etc except the bottles themselves which can go into the dishwasher on their own fit perfectly into these baskets  We bought three of these baskets when we bought more bottles early on and it has definitely been worth this small expenditure when we consider all the cleaning time we have saved in the past yearPro tip if you have a fast letdown like I do you might want to try using the fasterflow level 2 nipples instead of the newborn ones that come with these bottles At the recommendation of our lactation consultant we switched to these almost immediately and our baby liked these bottles better with the level 2 nipples  We still use them now  never saw a need to switch to even fasterflow nipples  If you dont have a fast letdown your newborn may feel like hes drowning with faster flow nipples so you will have to determine which works best for your babyAll in all these bottles are easy to use and help prevent gas and stomach pain in your newborn  They are also pretty easy to clean especially if you buy a few dishwasher baskets I highly recommend them\n",
      "\n",
      "5. Check and recheck the KTan for size issues before letting your guard down and wearing NO ISSUES OCCURED however I thought I was good to go and then realized that this large was different than the large I had been given before it Odd but fabric This makes the moby wrap appear like a midevil torture devise and bonus you wont have to worry about some BabyWearing freak watching you in the parking lot at the mall as you struggle to turn a bolt of fabric into what the KTan has simplifiedseriously Dad approved and if the moby is your thing thats cool just perhaps realize that its not as easy as everyone thinks to wrap that amount of fabric around yourself evenly snug comfortable and without mummifying yourself and lord help you your baby  Another bonus to the KTAN issue with baby takes only a second to move her out of the KTAN but in a moby We thought for the first two days after returning the moby 34have you seen Katy34love it love it love it love it love it love it love it love it love it love it love it love it love it love it love it love it love it love it love it love it love it love it love it love it love it love it love it love it love it love it love it love it love it love it love it love it love it love it love it\n",
      "\n",
      "Top 5 most negative reviews:\n",
      "\n",
      "1. My disappointment with this product prompted me to write to the manufacturer  Below is my correspondenceIm writing you this email to express my deep dissatisfaction with a recently purchased Graco productMy wife and I are new parents and as expected the Graco brand was quite heavily represented on many items that expectant parents needAmong other things we purchased a Graco car seat extra seat base and a Pack and PlayAt this point our daughter is only a week old the car seat has seen limited use but the Pack and Play has already been put through some paces and it is this product that I am writing to you aboutThe model we purchased was the Pack n Play Dempsey  The main reasons we chose this model were the designcolor and the fact that it had a changing table  The additional storage seemed to be a nice feature thought not something that we will probably use at this point and as it disappears when not used as a bassinet it has limited usefulnessI have quite a few reasons to be dissatisfied with this product but by far the biggest disappointment is the changing tableThe design flaws with the changing table are glaring  It is supported only on one side leaving the other side to hang across the bassinetplayard with nothing to brace it  Our daughter who is just barely 8 pounds places enough weight on the table that it dips down on the unbraced side causing her to roll over on the side  Even if placing her as far as possible over to the braced side even a few pounds of weight over the center of the table will cause it to slant and thus cause a baby to roll over to their side  As you can imagine trying to change a baby on a device like this is akin to placing them on a slide or ramp  it is not conducive  Furthermore I dont believe it to be safe as newborns do not have full control or strength in their necks and this table causes their bodies to slant underneath them  causing them to contort in uncomfortable and possibly dangerous waysYour website states that this changing table is to be used by babies up to 25 lbs  I cant possibly imagine how a child that large wouldnt cause the table to dip at even more dangerous angles  Reviewers at Babies R Us which unfortunately I didnt consult until after this product was purchased and assembled state that children as small as 5 lbs experience these same issues  In fact out of 43 reviews at the Babies R Us site almost every other one speaks of issues that people have found with this table  The overall review as of this writing is 33 out of 5 stars which equates to 67  I wouldnt expect my daughter to bring home grades like that once she enters school  and you should find such ratings for your products absolutely unacceptableWhat is even more disappointing is that this could have easily been averted had the table been given a similar design on both sides  A couple inches of plastic leg support on the floating side of the table could have braced it against the frame and completely avoided this issue  How could something like this even have made it past your design and quality control divisionsWhile the changing table situation is enough to sour me on this product I must also mention briefly some other problems with the productThe small sound machine that comes with this model plays at such a low volume that you can legitimately not hear here it in all but the quietest room  Standing 3 feet from the crib the sound couldnt be heard over a lower than normal conversational tone  While I understand there could be safety issues from glaring sounds this device errs way to far on the side of caution to be unusable  We have plenty of other noise making baby toys which dont suffer from these issues  If the baby is quiet enough to be able to hear these sounds they are most likely already asleep in a quiet room and dont need to be soothedI was also very surprised that the mobile was not electric  While your site does not specifically state the Babies R Us site which I have no doubt Graco writes andor approves the copy states as a feature Electronics module and mobile  This misleading combination of the two features infers that the mobile is indeed electronic and therefore would move of its own power  Not only does the mobile not move on its own its design is such that spinning it by hand causes it to move around maybe on 34 revolutions 23 seconds before the friction of its design causes it to stop  It is also placed at such a level that it would never be reachable at all by a child to play with or spin on its own perhaps from a safety issue that is best  So instead of a functional mobile what the child gets is the opportunity to stare at the feet of a few stationary turtlesWhile not incredible difficult to assemble the included instructions are poorly designed at best and misleading of incorrect at worst  I probably could have assembled the device in shorter order without referring to the instructions  For example why instruct the installation of the mattress in the bottom of the unit and then go back to instruct that it must be removed in order to configure the bassinet  Wont most people be assembling and using this as a bassinet first until their child grows into the playardI also find the advertising of these products as portable pack and plays a little absurd  While you can certainly collapse them to a smaller size the ability to fit them back into their original carriers is not an easy affair  Forget about trying to disassemble the accessories  snapping apart the mobile or attempting to remove the metal frame from the changing table fabric would certainly cause damage to these parts after several times  Additionally while my wife certainly is getting better muscle tone carting around a new child your prevalent advertisements with the mother toting the collapsed playard in one hand as if it were an empty picnic basket is patently absurdUnfortunately these last few complaints about the model seem to be inherent in most all of your Pack n Play models and as such I dont believe that returning this Dempsey model for another Graco playard would really make much of a difference  I suppose I could trade it for a cheaper model with no storage or changing table but the time and effort involved isnt worth the 6075 that would be saved  To be honest I am surprised based on the quality of this product that Graco has established such a reputation and large market share in the playard departmentI certainly wont be recommending these products in the future  Additionally I will be placing this review on both Amazon and the Babies R Us website  I invite you to answer these concerns at least in those forums should you choose not to respond to them hereThank you for your time but no thank you for the productSincerelyA Disappointed Customer\n",
      "\n",
      "2. Please see my email to the companyHelloI am writing to voice my familys anger over your unsafe cheap cosleeper  If you recall I had a problem with my newly purchased cosleeper back in May which I immediately called about and was told to send the frame back  At that time I asked to speak to a supervisor about the situation and was told that I would be contacted shortly  However Mayra was the only one who I was able to speak with after numerous attempts to be put in contact with the supervisor  After a huge delay due to mistakes on your end I finally got the cosleeper sent back to the company after speaking with Veronica on June 13thAt this time June 13th I asked to speak with the manager of the company and Veronica told me that Sharon was not in at the time but would be in later that day  I obviously never heard from Sharon or anyone else from this company for that matter from that point on  I was inquiring to speak with the manager after voicing my concern over just repairing the frame instead of receiving a new productWe received the frame shipped back to us without so much as an email or follow up from Arms Reach  The entire process to get our frame back took over a month from the time I first contacted customer service  I had initially asked for a replacement frame since our daughter had been used to sleeping in it by this time and I did not want to completely disrupt her sleep pattern while waiting for the repair which it did  The frame came back to us in a box with one sheet of paper which did nothing to describe what was wrong with the frame or what was done to repair itI use the term repair in disgust since it clearly was never properly repaired  We assembled the cosleeper again according to exact instructions in the manual  Two nights later I noticed that now if I barely touched the rail of the cosleeper nearest our bed that it would collapse and had to be pulled back up into the lock position  Obviously we felt very uncomfortable using the cosleeper but after having dealt with your awful lack of customer service the first time around I did not waste my time trying to reach Mayra Veronica or Sharon againTo avoid the problem of the collapsing side rail we have been careful to not touch or even brush against it for fear that it would collapse with our daughter in it  Without touching it it does stay up  Tonight July 23rd however I laid my daughter down from the other side of the cosleeper all together and the other side rail immediately collapsed when I laid her in the cosleeper  She was in it  I had not put any pressure on the side rail it just collapsed  After taking her out waking her up in the process and moving her elsewhere to be put to sleep for the night I attempted to relock the side rail  It took several tries and does not seem secure at allI can not believe that your remedy to fix the situation of a faulty cosleeper was to send our same frame back to us repaired which still breaks and is worse off than when I first contacted you  I am so turned off by your company not only because of the safety hazards associated with putting a baby in this piece of crap product that you make but the complete lack of care from the supervisor or manager You would think that someone would be concerned that their products for babies are faulty and unsafe  These are babies we are talking about here  Not pets not adultsinnocent babies who need the safest place possible to sleep  Your company disgusts me and I am honestly surprised that you are still around  Not for long I am sure\n",
      "\n",
      "3. Note we never installed batteries in these units preferring to plug them all into AC sockets So none of this has anything to do with low batteriesWe bought this unit from Amazon in late January 2011 paying 6354 The video review and other reviews here and elsewhere led me to believe that it might be a little quirky when dealing with distances or interference but it sounded like it would suit us well with the 2 remote units and ability to speak from remote to either the other remote or to both remote and base I really tried to like this despite my wifes initial reservations due to low volume even at the max setting In the end after less than one year it has been worse than I could have imaginedOur setup was odd but effective for us as we used it with another older analog monitor great and loud at short distance but way too much interference for a remote in the basement 2 floors down as follows Other monitors base is near the crib with its remote at our bedside The P400 base unit was placed directly in front of the analog remote so it would directly relay that very loud  clear audio from the crib area to one P400 remote on the main floor 1 floor directly below P400 base and the other P400 remote in the basement 2 floors down maybe 10 to the side This largely overcame the tooquiet performance of the P400 which otherwise left me craning to hear what was going on when we tried it with the P400 base by the cribThis worked pretty well though I found I would have to turn the P400 remotes off and back on periodically to restore relatively good performance it would degrade over time such that it got harder and harder to hear well even when the lights indicated it was receiving loud signals with the bars filling up Every once in a while it seemed to have lost the connection altogether but wasnt giving the beep signaling disconnection VERY frustratingAfter some months the basement unit would more and more frequently work poorly or not at all My wife would get very frustrated when she would call me repeatedly and I couldnt hear a thing of it I initially chalked it up to interference thought nothing had changed and resolved to power cycle both remotes much more frequently But alas over time it pretty much just stopped working completely but again with the volume lights indicating it was receiving audio from the base station leaving me scrambling to resurrect another old monitor temporarily suffering with its droning interference when working in the basementWe made do with that suboptimal situation for some time but now I find the main level P400 remote just a floor directly below the P400 base also stopped working and again the lights would be busily indicating incoming audio all the whileHere is the kicker In desperation I actually tried plugging earphones into the remotes jack and Lo  Behold it WORKED via the headphones with the activity shown by the lights now audible once again  Unplug the headphones and the remote would again go silent despite audio lights still indicating activity Plug in the headphones and I could again hear it I tested both remotes and the base unit and found that the broadcast function from remotes to base was working just fine but there was nothing coming from the remote speakers no matter what I did These suckers are effectively dead as monitors since I have no intention of using them with headphonesI conclude that there is something major wrong with the audio system on these units something that prevents the received signals again as indicated by the activity lights that are aflicker on the remotes from making it to the builtin speaker Which of course renders the units completely useless or worse since theres no error signal to let you know something has gone horribly wrongI did take one of the remotes apart 5 screws in total 3 of them very small and couldnt see anything clearly wrong with the wiringconnections no bursting capacitors etc so I have no idea if this is a problem at the gross level or something amiss in the circuit board or what But for what it is worth I would not touch these unitsFWIW when new they did work reasonably well though I fault them for unusually low volume even when set to loudest setting And then theres the stealth degradation over time issue which may be temporarily remedied by powercycling the remotes But in the end if your experience is anything like ours the remotes speakers will eventually cease to produce any audio at allDont be seduced by the nice features It wont last at least in our experience\n",
      "\n",
      "4. This is the worst stroller you can get and its unsafe for your kids We had many issues with our Kinderwagon and last night it broke down and collapsed while the twins were sitting in it They both started screaming they couldnt get out and it wouldnt open it was stuck Lucky they were not injured  I called the company three times and left voice mails for customer service I sent emails and they wouldnt respondOther quality issues beside the fact that its unsafeThe front seat the fabric was torn near the stitches and we had to send it for repair It is NOT up to 50lb as they claim maybe 15lbThe handle foam was slowly getting tornThe cup holder brokeThe rubber leg rest is a joke once the kids get bigger they push it with their feet and it pushes down on the wheels it brings the stroller to stopThe basket underneath doesnt hold much it was also torn and we sent it for repairThe canopy doesnt cover the front childThe front seat padding is so thin the neck touches the metal frameThe wheels are SO difficult to maneuver Unless you walk on a flat paved road you are going to fight this strollerThe front seat doesnt recline and there is no head rest if the front seat child is sleeping his head is hanging down and outWe bought the Kinderwagon in mid Nov 2013 now its the end of June 2014 We used it for 75 months If you saw our stroller after using it daily with twins 21 months now and they are on the small size and not too heavy you will not believe how terrible and worn off it lookedAfter it broke on the twins yesterday and no comment from the company we returned it to the store They said that they sell many of these strollers and they never heard a complain but they will call the manufacture Keep in mind that its new item in the market so it takes time for parents to react and complainWe bought it because we liked that it folds like umbrella stroller and its light and portable for two kids We paid 300 It looks too good to be true but its REALLY UNSAFE Today we bought the City Select with two child seats its not as portable but it is such a huge upgrade move so smoothly I really wish we didnt spend 75 months straggling with this horrible stroller Dont be tempted by the price it a very very low quality stroller and you may hurt your kids by using it Beware\n",
      "\n",
      "5. We have not had ANY luck with FisherPrice products  When this POS worked for about 6 short weeks though it was a good product  Ours broke without warning and now the aquarium part does not work at all We get music sound effects and the blinking lights but no bubbles and fishstarfish movement  It really sucks to see and hear the dissapointment on our babys face as the aquarium suddenly stopped working  Also our other bouncer a FisherPrice Flutter  Chime bouncer has this plastic bird that vibrates excessively and makes a loud annoying noise  It is not affixed properly to the product to begin with  We also were dissapointed in the FisherPrice Aquarium Cradle Swing since the swing goes much too fast even on the slowest setting  All in all 3 different products by FisherPrice and all fell short in expectations and useability  Bottom line look elsewhere for a better quality bouncer  Clearly FisherPrice quality is not too good on many of their seemingly shoddy productsUPDATE 122006 After taking this thing apart and fixing the loose connections inside I have been using this the past few weeks and yesterday my 13 pound 45 month old daughter managed to thrust her head over the side of this bouncer and she hit the floor  Despite tightening the straps to the correct length  Folks even if you are there supervising your infant they can thrust themselves off the sides and get hurt  All it takes is a second  This is a FLAWED and DANGEROUS product  There should be some sort of sideguards or higher side bolsters in order to keep infants from falling off the side  I was lucky in this case since my infant apparently did not get hurt  I am throwing this product out immediately and destroying it so nobody else gets their hands on it  Its that potentially dangerous  Just read every other review here  So many others have mentioned the same shortcoming  This product should be taken off the market immediately\n",
      "\n"
     ]
    }
   ],
   "source": [
    "#c) \n",
    "#hint: use the results of b)\n",
    "reviews = sorted(list(zip(rating_proba_predictions, test_reviews)), key=lambda x: x[0][1])\n",
    "top_5_positive = [review[1] for review in reviews[-5:]]\n",
    "top_5_negative = [review[1] for review in reviews[:5]]\n",
    "print('Top 5 most positive reviews:\\n')\n",
    "for i in range(5):\n",
    "    print('{}. {}\\n'.format(i + 1, top_5_positive[i]))\n",
    "print('Top 5 most negative reviews:\\n')\n",
    "for i in range(5):\n",
    "    print('{}. {}\\n'.format(i + 1, top_5_negative[i]))"
   ]
  },
  {
   "cell_type": "code",
   "execution_count": 108,
   "metadata": {
    "id": "7pKnatVFySdw"
   },
   "outputs": [
    {
     "name": "stdout",
     "output_type": "stream",
     "text": [
      "0.9312991748224909\n"
     ]
    }
   ],
   "source": [
    "#d) \n",
    "from sklearn.metrics import accuracy_score\n",
    "acc_score_rating_preds = accuracy_score(test_ratings, rating_predictions)\n",
    "print(acc_score_rating_preds)"
   ]
  },
  {
   "cell_type": "markdown",
   "metadata": {
    "id": "DNbrKlcgySd0"
   },
   "source": [
    "## Exercise 5\n",
    "In this exercise we will limit the dictionary of CountVectorizer to the set of significant words, defined below.\n",
    "\n",
    "\n",
    "a) Redo exercises 2-5 using limited dictionary.   \n",
    "b) Check the impact of all the words from the dictionary.   \n",
    "c) Compare accuracy of predictions and the time of evaluation."
   ]
  },
  {
   "cell_type": "code",
   "execution_count": 109,
   "metadata": {
    "id": "kgWJcGczySd1"
   },
   "outputs": [],
   "source": [
    "significant_words = ['love','great','easy','old','little','perfect','loves','well','able','car','broke','less','even','waste','disappointed','work','product','money','would','return']"
   ]
  },
  {
   "cell_type": "code",
   "execution_count": 110,
   "metadata": {
    "id": "ZvIjcZnqySd4"
   },
   "outputs": [
    {
     "name": "stdout",
     "output_type": "stream",
     "text": [
      "Top 10 most positive words: ['car', 'old', 'able', 'little', 'well', 'great', 'easy', 'love', 'perfect', 'loves']\n",
      "Top 10 most negative words: ['disappointed', 'waste', 'return', 'broke', 'money', 'work', 'even', 'would', 'product', 'less']\n",
      "[1 1 1 ... 1 1 1]\n",
      "[[0.12144008 0.87855992]\n",
      " [0.08486193 0.91513807]\n",
      " [0.02516944 0.97483056]\n",
      " ...\n",
      " [0.14467686 0.85532314]\n",
      " [0.49162951 0.50837049]\n",
      " [0.11422531 0.88577469]]\n",
      "Top 5 most positive reviews:\n",
      "\n",
      "1. I literally have owned almost every stroller No I am not a shopaholic I just think and know that there is no perfect stroller so as needs changed strollers were addedI now have 3 children and one very messy garage  Heres the listPeg Perego Venezia nice ride too big too heavyAprica great shade tough to maneuver sometimes wont close STRESSSnap N go miracle stroller for the first 12 months provided baby stays with in the weight rangeMaclaren Triumph awesome umbrella stroller no snack tray for parent or childCountless cheap umbrella stroller I toss and go on vacations all really just not so goodGraco duo long and heavy poor turning radius I actually returned this one  only 1 I ever returned Twin Umbrella travel stroller heavy piece of not so goodCombi twin Savvy  awesome weight great canopy folds compact nice ride my favorite for a doubleSit N Stroll great for the planetravel not really great as either a stroller or a carseat but for short term it is fabulousWith child 3 I didnt want or need another  I was going to do the Snap N go until 12 months then straight to the Maclaren but yes I did bc I gave away most of the above and I ran over my Snap N go   oops  My 3rd child turned out to be a giant baby  20  lbs at 4 month so he outgrew the Snap N go anyways  and didnt he have the neck support for an umbrella stroller so I sucked it up and bought the Aria One Handand I love it  Comfy  full recline roomy LIGHT  I am littler 5ish and  my baby is a chunker and most other strollers are heavy so this is GREAT for my back easy to maneuver and folds handily  The basket is big it is hard to get to when baby is sleeping but so  It has a parents cup holder and a snack tray for the child  great  It cleans in the washing machine too  The straps take some getting used to but if I didnt have an over the shoulder strap system with this child he will figure out how to slip out  the little bugger  SoI absolutely dont think you can have it all in one stroller but this one is close  I LOVE LOVE LOVE  the Aria for almost everything except travelling Maclaren is more compactAnd orange is such a snappy color for my little hipster\n",
      "\n",
      "2. We bought this stroller about 2 weeks ago I absolutely love it I have a 3 year old and a 5 month old They both fit in the stroller great My 3 yr old was so excited about this stroller He loves the color blue the canopies the UV shade everything He is looking forward to using the boot this winter I love love love the big basket Yes there is a bar across it However I am able to get a backpack in over the bar To take it out we just unsnap the back of the basket and pull the backpack under the bar It really is easy The stroller steers well I have not noticed it pulling to one side despite the 15 pound weight difference between my boys We have not used the rain shield but the UV shade is great The canopy will cover the whole front of the stroller but the UV shade keeps the boys shady when they want to be able to look out The infant boot works well It is meant to go across the whole front but is possible to use it on just one side The harness is easy to adjust We were using the Combi Citty Savvy single It had the worst harness adjusters The Maclaren Techno uses the same crappy adjusters On the Tango you just slide the clip up or down It is simple and it stays put The harness fits both of my boys The seats recline nicely the canopies are huge The stroller is easy to steer and the handle is comfortable I have done a little onehanded steering but that is not easy It is a double stroller after all The Tango is a great looking stroller I have read reviews in which people talked about wanting a stroller that looked good I thought that was silly However we have gotten so many comments on this stroller I have to admit that it is a little flattering Silly but true Someone complained about having trouble opening the stroller It is challenging at first We finally figured out that you have to push down on the little handle on the side of the stroller You pull that handle to close it and push it to open it Once you figure that out it is super easy to open My one complaint is that the stroller is pretty large when folded I have two carseats tethered in the back of my 2004 Odyssey In order to get the stroller in I have to loosen one of the tethers first We put the stroller under the tether then tighten the tether I am able to fit bags in front of and beside the stroller but it takes up A LOT of room We are going out of town later this month and I have no idea how I am going to fit in our luggage with the stroller I am considering strapping the stroller on the roof So if a small fold is a must go with the Combi or McLaren I thought both of those were rather flimsy though The McLaren was VERY narrow and had shallow seats We decided we would just live with the large fold and get the Zooper I am SO glad we did It is well worth the money\n",
      "\n",
      "3. As parents of two little ones Id like to say we are experts in appreciating different baby bottle designs and what works best for baby  Heres our criteria for a baby bottle and why the purpleredesigned Lansinoh mOmma natural wave bottle is 5 stars for usOur Baby Bottle CriteriaFirst and foremostBABY MUST LIKE ITMunchkin Latch BottleFails here because the nipple easily collapses  Just a very slight pressure with your finger and the nipple collapses  Now imagine a moving baby with a slurping motion and this nipple collapses too easilyAvent Classic BottleWe have a dozen of these from our firstborn  Unfortunately our son just wont take these  We tried all of the nipple sizes from NB to level 3 he just wont take it  We had learned long ago to just get 1 bottle of each type because different babies like different bottles no rhyme or reason  Our daughter loved theseAvent Natural Flow bottlenippleHe will actually finish a full bottle with this but the bib and burp cloth will be drenched  The widerflat design means he just drools and drools  Maybe good for others but not for himDr BrownHe was colicy at first and this is the only bottle he would take without drooling  He loves them we the parents despise them because of the cleaning  6 parts to clean  But baby first and we endured this for 67 months until we discovered the Lansinoh mOmma Natural Wave bottlesLansinoh mOmma Natural Wave bottleI put asterisks around Natural Wave because Lansinoh has an older 34Lansinoh mOmma34 that is round in shape and has orange coloring  The Lansinoh mOmma natural wave bottles look like regular bottles and are purple in coloring  So make sure you are reading about the right mOmma typeThis is the only bottle in addition to the Dr Brown that he would take  No drooling we dont even need a bib or burp cloth he finishes everything and most of all it is so easy to clean  just 4 parts more on that laterAfter baby approves the next criteria isHOW EASY IS IT TO CLEANMunchkin Latch BottleThis is pretty terrible probably 1star for cleaning along with Dr Brown  The nipple is an accordion design on the bottom that is supposed to allow for easy movement and probably why it collapses so easy under suction  Well can you imagine trying to clean in between the grooves of an accordion  What a pain  Then it has this bluevent piece at the bottom of the bottle that you have to pop out and has small crevices that you cant really fit any bottle brush into not even the Munchkin baby bottle brush set  hah  Furthermore having this 34hole34 at the bottom is terrible if you soak your bottles with water because you always have to have the bluevent piece in thereAvent ClassicProbably a 2 for cleaning because it has 5 parts  It has this blue ring that is annoying to clean  We put up with it for 2 years until we switch our daughter to cow milkAvent Natural FlowProbably a 4 for cleaning because it has 4 parts  The middle nippleholder piece is designed justso that it really tears up the sponges in your bottle brushDr BrownAll parents despise cleaning them yet babyfirst and this is the bottle we used for 67 months until we discovered the new Lansinoh mOmma redesign  If I could give negative stars for cleaning a Dr Brown bottle I would  All of the small intricate parts are a pain to clean ask anyone blehLansinoh mOmma Natural Wave purple bottleWe love it 5stars for cleaning  4 simple parts that is compatible with our bottle brush nice wide design easy to assemble super easy to cleanOVERALL DESIGN THOUGHTSMunchkin Latch BottleTerrible  The lid completely covers the middlenippleholder part  This means after you have warmed up the bottle with hot water you spin and spin the lid because theres no other surface to grab and its slippery because it is wet  If you have soapy hands and are trying to unscrew the top it will spin and spin too All of the other bottles the lid restson or at least is designed such that you can easily grip and separate the caplid  Terrible to transport must use a sealing disc else it leaksAvent ClassicHas a flat top  Easy to put down the caplid and wont roll away while adding formula etc  Easy to grip just dont like the extra 34ring34 that must be cleaned  Used this for 2 years with our first one  Smallest size is 4 ounces or 125 ML  this was too little and the 9 ounce was a big leap  5 ounces would have been perfect for a long time Easy to transport no spills nothing extra requiredAvent Natural FlowSame slippery lid issue as the Munchkin but not as bad  Rolls around the counter if you take the caplid off  Smallest size is also 4 ounces125 ml  Easy to transport no spills nothing extra requiredDr BrownThe bottle we the parents despised cleaning the most but we used it for 67 months because it DID help with a colicy baby  Sometimes you gotta do what you gotta do  Smallest size is 4 ounces 120 ml but you CANNOT overfill it will leak We despise the 9ounce version of Dr Brown  too big for our bottle brush and bleh it actually makes cleaning worse if that was possible  Another terrible design is that you have to take the cap off to install a sealingdisc if you transport this  The last thing you want to do in a public place is have to take the cap off etc exposing the milk to the elements  If you put this in an insulated cooler and the bottle is not kept vertical and tips over youll have milk everywhereLansinoh mOmma Natural Wave the purple one not the orange oneThe lid is great it has a completely flat side that is easy to put down and wont roll around  Our baby can drink an entire bottle with no bib or burp cloth  The smallest size is 5 ounces which is perfect for our babys needs Easy to transport no spills nothing extra requiredBasically all the benefits of the Dr Brown but easy to clean  Baby likes it and we don8217t even use a bib or burp cloth when using this bottle\n",
      "\n",
      "4. Ive posted an UPDATE at the endFirst let me state that I have been buying products from Amazon for the past 12 years  I love Amazon  I love the reviews because they have always played a part sometimes more sometimes less in the products I decide to purchase  For some reason I have never left a review I know  Until now  I feel such an urge to express how much my husband and I love this strollerMy first son will turn 7 next month  We purchased an Evenflo strollercar seat travel system for him in 2005  We hated it  We used the car seat but never EVER used the stroller  It was big bulky heavy and a pain in the rear  I think my husband hated it even more than I did  I wore my first son everywhere instead of putting him in a stroller  Fast forward to 6 years later and we have our second son in September of 2011  I researched for months  I wanted to find a stroller that had several qualities  Looks  As shallow as it may seem I wanted a stroller that wasnt ugly  I wasnt interested in any fancy or cutesy designs on the fabric  I wanted simple and sleek  I wanted something that my husband would not mind pushing around either  Weight  I wanted something that was not super heavy  QualityDurability  I was looking for something that would hold up through months and months of theme park visits and ultimately through daily runs  Ease  Meaning that I wanted it to fold easily and be a stroller that I could easily put in and out of my car without looking like my back was going to give out and I would collapse   Price  I wanted something under 100  I find that the more expensive a stroller is the sleeker it looks a shame that more less expensive strollers arent more attractive  I wanted the look and the quality for under 100  Able to use with a Graco car seat  I knew I did not really want to purchase another combo travel system of any kind really  Canopy  Needed a bigger one to protect from the FL sunSo with these key things in mind I researched for hours upon hours for the last couple months of my pregnancy  I still held off  I wanted to make the right purchase and not settle for another crap stroller that would be a huge disappointment  When my son was a month old I pulled the trigger and purchased the Joovy Scooter Stroller in Greenie  BEST DECISION EVER  We live in Florida  Below the freeze line in FL  an hour south of Tampa on the water  Here is my take on the Pros and Cons of the Joovy  I hope it might help out someone else who is on the fencePROs1  Cost  9999  True it was just one penny shy of my limit I set  But it was under  I had a giftcard from a family member so the stroller really only cost me 4999  A steal2  Assembly  This was almost totally assembled when I received it  It has been about 8 months since I purchased this so my memory may fail me on the exact details of the assemblybut I seem to remember only installing the brake bar and the wheels others may recall more but the fact is that it was super easy overall and I did not need to wait for the assistance of my husband  I noticed right away that I was lacking the right size hub cap for one of the back wheels  This is only a cosmetic feature  It does not in any way mess with how the stroller would function but still I felt that I should call the Joovy customer service to inquire  I dont remember waiting at all on hold  The lady I spoke to was super friendly and practically no questions asked she Fed Exed me a couple of hub caps for free  I got them in a couple of days3  Ease  It does take both hands to fold the stroller up but it is super easy after getting the hang of it  It only took me a couple of tries before I became a pro  No struggling in parking lots looking like the stressed out parent that wants to pull an Office Space on the stroller with a bat  There was an Up All Night episode that dealt with beating a stroller to pieces in a parking lot  I think all of us as parents have been there at one point or another with some piece of baby equipment  It unfolds so easily its ridiculous  I love it  You just pull the handles up and thats that4  Maneuverability  Some people had mentioned that they wish the wheels werent plastic  It is true that they are indeed plastic  But I have never had a problem with them  My stroller feels like its gliding on ice for the most part  Only a couple of times have the wheels gotten stucktangledwhatever  I would not even consider this an issue but felt it was worth a mention at least Seriously in 8 months it may have happened twice  Thats it And this stroller has had a LOT of mileage5  The handles  There seems to be a discussion about the handles being rough  My husband nor I have EVER had an issue with this  The handles are great  We live 1 hour and 15 minutes away from Disney World and had annual passes  We went at least two weekends a month spending 12 hours a day at the parks  We just purchased annual passes to Universal recently and spend just as much time there  We have never received a blister from the handles and never felt that they were rough  They have a nice secure grip making it easy to maneuver through crowds and onehanded love the design of the handles  I am not exaggerating when I say we spend 12 hour days at the parks  The stroller makes it such a breeze  I also wear my baby some in the Ergo Performance in Spring Green also purchased off Amazon the green color is a pretty close match to this stroller for anyone wondering but he really loves this stroller  I also run at the park 5 or 6 times a week with this stroller  No it is not listed as a jogging stroller but it works perfectly for me  I run anywhere from 14 miles at a time each day and have never had an issue  I run mostly with only one hand on the handles and it turns beautifully as I run6  Durability  What can I say  I think Ive already said it all  This stroller has held up wonderfully throughout all of our theme park adventures and through each of my morning runs at the park  I have no complaints7  Looks  I have to say this stroller is beautiful  I adore it  It is sleek modern slim but durable  The Greenie color is GORGEOUS its my favorite color And I can find it easily at the theme parks8  Basket  There is PLENTY of storage underneath in the oversized basket  We can fit a big diaper bag blankets toys a purse and more9  Reclining  The seat reclines very easily  If you recline it as far back as it will go it makes changing diapers easy  When my son is awake and wants to look around I put him in the high back seating position  If he wants to sleep I just recline  Not much to it  Pretty simple and easy10 Car Seat  I had no problems at all attaching our Graco car seat to this stroller when my son was younger no car seat adapter needed  We dont need to do this anymore but it worked great when we did11 Weight  It is still a little heavy but honestly I have no problem lifting it in and out of my Element or my husbands Accord  It folds up nicely and lies pretty flat  Im 55 and 115 lbs  I have no problem lifting this  Its hard to explain without you seeing it in person but the stroller is pretty slim  It is not bulky like most12  Foot brakes  I have never had a problem with my feet hitting the brakes even on all my runs  Neither has my husband he is 6 tall  The brake works great as it should13  Foot Rest  This is a cool feature for the little one14  The CANOPY  The canopy on this is AMAZING  It is super large  I love it  Like Ive already mentioned we are in the FL heat all year long  This canopy is awesome at keeping my little guy protected from too much sun  I also like the clear window I can look through at him which I like to do when I am running to see if he fell asleep or not 15 Extra pockets  There are side pockets for your little one to store extra toys or as I do I put his bottles there and take them out as he needs them  There is also a large zippered pocket on the back of the stroller16  Cup Holder  I rarely use the cup holder as a cup holder  I usually use it to hold my phone as I run but it does have a cup holder17  The fabric  Love it  It has not faded even in the FL sun  It is comfortable for my son and easy for me to wipe up or to shake the sand off as we have lots of beach visits  While I wouldnt consider this the best stroller to push through sand we have done it  We live where the beaches are super soft sand so you have to pop a wheelie with the front wheels being totally air borne to push it through but we have done it several times  Also the rain seems to roll right off the fabric mostly  The fabric comes off for washing too18 Extras  My son LOVES propping his foot up on the bar as we stroll while Im walking or running with him  Also we love the super padded cushions on the buckles for his chest  And this buckles in such a way that would be harder for a toddler to figure out I would think but super easy for parentsCONsI dont have any  The only con is not buying this You cant beat the quality for the money hereThis is my favorite stroller I have ever used  My husband agrees  It is so easy to push along on flat or bumpy surfaces  I recommend this to all of my friends that are having babies  This was my very best purchase this time around  We have been so happy with it and our 9 month old son also seems to enjoy itUPDATE 91412  Im now successfully running over 6 miles at a time with my baby almost 1 year old boy in this stroller I run a minimum of 3 milesday 5 days a week but I have one longer run each week also I love it  The wheels have had a LOT of mileage on them and they have held up quite well so far at some point I might have to replace them as I am constantly upping my mileage  So far in the 14 days in September I have run over 42 miles and walked over 25 miles while pushing this Joovy  I dont understand the rough handles comments at all  Ive never ever had a blister or any complaints about the handles  They work out so well for me when I run because they give me great control mostly I run with only one hand on the handles  Also I get so many compliments on the looks of this stroller\n",
      "\n",
      "5. Check and recheck the KTan for size issues before letting your guard down and wearing NO ISSUES OCCURED however I thought I was good to go and then realized that this large was different than the large I had been given before it Odd but fabric This makes the moby wrap appear like a midevil torture devise and bonus you wont have to worry about some BabyWearing freak watching you in the parking lot at the mall as you struggle to turn a bolt of fabric into what the KTan has simplifiedseriously Dad approved and if the moby is your thing thats cool just perhaps realize that its not as easy as everyone thinks to wrap that amount of fabric around yourself evenly snug comfortable and without mummifying yourself and lord help you your baby  Another bonus to the KTAN issue with baby takes only a second to move her out of the KTAN but in a moby We thought for the first two days after returning the moby 34have you seen Katy34love it love it love it love it love it love it love it love it love it love it love it love it love it love it love it love it love it love it love it love it love it love it love it love it love it love it love it love it love it love it love it love it love it love it love it love it love it love it love it\n",
      "\n",
      "Top 5 most negative reviews:\n",
      "\n",
      "1. My wife has been sucessful using the pump but generally speaking the pump has numerous idiosyncrasies that you should consider before purchasing it  Had we done more homework we likely would have chosen a different pump  If only you could return a personal item to Babies r Us once youve opened it we wouldMy main complaint is that the pump is not very practical  While my wife expresses a fair amount of milk using the product she obtained the same amount of milk using the Medela pump Symphony  There is a long unrelated story why we rented a Medela pump for 2 weeks but it provided a useful period to compare the products sidebysideIn order of importanceSetup  A lot of parts to plug in connect and ultimately clean not to mention misplace or loose  Medela has this pump beat handsdown on this front  Managing this process at home is a chore if youre pumping at work I would imagine this becomes even more difficult  I suppose this is why Avent dont provide the option of a car power adapter  Avent tries sugar coatingspinning this fact out of the gate in the instructional dvd they provideWhile setup appears difficult at first youll soon become use to it  Yeah you get used to but why should you  You dont with the competing products and just think about having to deal with this in the middle of the night when you are sleep deprivedTubing  As a previous user stated the tubing is not very flexible  Especially compared to Medelas tubing  The tubing for the Avent Duos pumps and the corresponding control cord are bound together from the base up to about 75 the length of the tubes  Medelas has separate tubes for each pump  They are much more flexible and lighter  What does this all mean Medelas product is easier to attach separate and MUCH less prone to tip over  Again bad design on Avents part  Fortunately for the time being as my wife is still at home we dont remove the tubing from the pump itself but I see this becoming an issue once she returns to workTop Heavy  As mentioned in other reviews the pump units are top heavy and prone to tipping  The first time this happened my wife cried  The inflexiblefused tubing exacerbates this problem  If you buy the pump be warned and most of all be careful As mentioned in other reviews they only make base stabilizers for the 4oz bottles  To my knowledge youre out of luck for larger bottles and the reuseabledisposable VIA bottles Keep in mind  using a bigger Avent bottles doesnt solve the topheavy problemWaste  Compared to the Medela pump more milk is wasted using the Avent pump  Trust me every drop counts youll see  It is frustrating to see precious drops going to waste  Milk tends to collect behind the soft petals on the front of the horns  Its difficult and messy to harvest these drops  Also milk pools under the rubber diaphram that creates the suction on the horn  This is the area right above where the milk should drop into the bottle  You think they would design it so the milk flows right in  Well it doesnt it has to raise above the level of separate component you need to plug into the bottom of the horn  The milk that collects here is easier to harvest however by pulling off the cap and diaphram then pouring it into the bottle  Again poor design  Lastly the horns themselves dont seem to be designed with the same angle drop that the Medela ones are so you need to hunch over to compensate  If not this is why milk collects behind the soft petals  Overall the Medela pump is easier to use more comfortable and wastes less milk  Recapturing what little waste there is with the Madela pump is certainly easierNoise  The Medela Symphony product was barely audible  This pump makes a fair amount of noise As another review noted we were expecting it to be quiter  Perhaps the cheaper Medela pumps arent as quite as the one we were usingCollectively these detract from its overall usefulness and practicality  Considering what we paid for the pump Im disappointed in the experience and was expecting a much better product  Im willing to bet youll be disappointed too  Pumping is a task youll need to perform many times a day for an extended length of time  In a best case scenario pumping is a task that you endure  Why make it more difficult than it needs to beOne last bit of anecdotal information that I cant seem to escape is thisIn the SF Bay Area there is an awesome maternity support center named DayOne  Among the many services they provide is salesconsultingrenting of breast pumps  When a new pump comes on the market they ask vendors to provide a few pumps for testing purposes  Avent refused this request This resource center is one of the most influential providers of information to breastfeeding mothers in the area  If the pump is so good why not allow this center to test the pump for a few months  Instead Avent distributes this pump through BrU only  With all due respect the staff at these stores have little if any insight to offer consumers or extensive experience with the pumps they sellCall me a conspiracy theorist but this leads me to believe Avents got something to hide  If so shame on them  This is a new product for Avent and until they solve these problems I highly recommend you consider an alternativeI hope this review did not come across too jaded  It is a strong pump  However this one strength is certainly eclipsed by the many weaknesses listed If nothing else throw out my commentary but take the factors I mention Setup Waste Tubing and overall practicality into consideration when selecting a pump Especially as it relates to where and when you will be pumping  And remember youll need to be pumping in the middle of the nightBest of luck and most of all choose carefully\n",
      "\n",
      "2. I am extremely disappointed with this productwhat a complete waste of money  I originally had a diaper genie however my son broke the top off of it and I decided to try the diaper dekor because it seemed a little easier to use  The design is a nice idea but boy does this thing STINK We change this every couple of days before its even full and it still stinks  Ive tried deodorizers baking soda lysol etc and it still takes your breath away  We never experienced any odor problems with the diaper genieIm kicking myself for wasting the money on this thing I actually went out and bought another diaper genie because we couldnt take the stench of the diaper dekor anymore  Do yourself a favor and dont waste the money\n",
      "\n",
      "3. I was thrilled to have found a glass sippy cup havent found others out there yet  This is so awful TOTAL WASTE OF MONEY  It leaks all over down the groves where you screw on the top out the way to big sipping openingjust awful  Dont waste your money on this over priced lame invention VERY DISAPPOINTED  Contacted the company would have had to pay 7 for return shipping for a refund\n",
      "\n",
      "4. I hate this product because this Medela Harmony Manual Breast Pump doesnt work at allI am breast feeding my baby from last three months and thought of buying a pump which i can use occasionally when i am out for workI have tried to use it many times since then and there is not really any suction and certainly not enough milk to save as it takes forever to get a few dropsFrankly speaking I couldnt get even 10 drops of milk using this pump I cant return it so the only way is to throw in trash and post pictures here so every one is aware of it that i really mean itI do not recommend this product even for stay at home momsBad part about breast feeding pump is once you opened it we cannot return it even if it is bad manufacturing productPlease dont waste your money on this crappy product\n",
      "\n",
      "5. This kit is a complete waste of money I wish I had known this before I threw away the packaging so I could return it to the store Its on its way to Goodwill insteadThe snotsucker is the worst piece of equipment in the kit The plastic is so thick and heavy that its really difficult to squeeze it and it takes so long to pop back out that it doesnt actually suck any snot from babys nose Instead I highly recommend the NoseFrida Snot Sucker It looks weird and I hesitated to buy one but boy am I glad I did That thing works like a champThe thermometer is tied for the worst item in the kit It takes a full minute and a half plus to get an underarm reading This was a huge stressor when baby was sick for the first time and I wanted to take several temps to make sure I was getting an accurate reading SUCH a waste of money Get a thermometer that boasts about its reading time 5 8 or 10 seconds is the norm for a good thermometerThe medicine dispensers of which there are two are ridiculous The syringe is so chunky that it would be hard to fit it into babys mouth The spoon Same thing Also keep in mind that any medication that needs to be administered via syringe will come with oneThe nail clippers are actually half decent The magnifying glass is just a piece of plastic that fell out and got all scratched up after a couple weeks but now I use them without the magnifying feature I do like that they are very petite and easy to get around tiny fingers However you can find this item sold individually for a couple dollars at Amazon and baby storesDont waste your money I wish I hadnt\n",
      "\n"
     ]
    }
   ],
   "source": [
    "#a)\n",
    "from sklearn.model_selection import train_test_split\n",
    "train_reviews, test_reviews, train_ratings, test_ratings = train_test_split(baby_df['review'], baby_df['rating'])\n",
    "\n",
    "# #b)\n",
    "vectorizer = CountVectorizer(vocabulary=significant_words)\n",
    "vectorized_train_reviews = vectorizer.fit_transform(train_reviews) # instead of train_reviews\n",
    "vectorized_test_reviews = vectorizer.transform(test_reviews)\n",
    "\n",
    "# #a)\n",
    "model = LogisticRegression()\n",
    "model.fit(vectorized_train_reviews, train_ratings)\n",
    "\n",
    "# #b)\n",
    "words = sorted(list(zip(model.coef_[0], vectorizer.get_feature_names())), key=lambda x: x[0])\n",
    "print('Top 10 most positive words:', [word[1] for word in words[-10:]])\n",
    "print('Top 10 most negative words:', [word[1] for word in words[:10]])\n",
    "\n",
    "# #a)\n",
    "start = time.time()\n",
    "dict_rating_predictions = model.predict(vectorized_test_reviews)\n",
    "print(dict_rating_predictions)\n",
    "rating_dict_preds_time = time.time() - start\n",
    "\n",
    "# #b)\n",
    "rating_proba_predictions = model.predict_proba(vectorized_test_reviews)\n",
    "print(rating_proba_predictions)\n",
    "\n",
    "# #c) \n",
    "reviews = sorted(list(zip(rating_proba_predictions, test_reviews)), key=lambda x: x[0][1])\n",
    "top_5_positive = [review[1] for review in reviews[-5:]]\n",
    "top_5_negative = [review[1] for review in reviews[:5]]\n",
    "print('Top 5 most positive reviews:\\n')\n",
    "for i in range(5):\n",
    "    print('{}. {}\\n'.format(i + 1, top_5_positive[i]))\n",
    "print('Top 5 most negative reviews:\\n')\n",
    "for i in range(5):\n",
    "    print('{}. {}\\n'.format(i + 1, top_5_negative[i]))\n",
    "\n",
    "# #d) \n",
    "from sklearn.metrics import accuracy_score\n",
    "\n",
    "acc_score_dict_rating_preds = accuracy_score(test_ratings, dict_rating_predictions)"
   ]
  },
  {
   "cell_type": "code",
   "execution_count": 111,
   "metadata": {
    "id": "Io1bJ0T2ySd-"
   },
   "outputs": [
    {
     "name": "stdout",
     "output_type": "stream",
     "text": [
      "Maximum relative impact = 2.38399\n",
      "Word disappointed has impact 2.38399\n",
      "Word waste has impact 2.02241\n",
      "Word return has impact 1.99869\n",
      "Word broke has impact 1.67000\n",
      "Word money has impact 0.91777\n",
      "Word work has impact 0.61503\n",
      "Word even has impact 0.51331\n",
      "Word would has impact 0.34165\n",
      "Word product has impact 0.32388\n",
      "Word less has impact 0.18445\n",
      "Word car has impact 0.06887\n",
      "Word old has impact 0.07266\n",
      "Word able has impact 0.22872\n",
      "Word little has impact 0.48407\n",
      "Word well has impact 0.49927\n",
      "Word great has impact 0.93983\n",
      "Word easy has impact 1.17873\n",
      "Word love has impact 1.36060\n",
      "Word perfect has impact 1.47114\n",
      "Word loves has impact 1.72346\n"
     ]
    }
   ],
   "source": [
    "#b) Check the impact of all the words from the dictionary.   \n",
    "from math import fabs\n",
    "max_impact = max(max(model.coef_[0]), fabs(min(model.coef_[0])))\n",
    "print('Maximum relative impact = {0:.5f}'.format(max_impact))\n",
    "dict_words_impact = [val for val in words if any(s in val for s in significant_words)]\n",
    "for word_impact in dict_words_impact:\n",
    "    print('Word {0} has impact {1:.5f}'.format(word_impact[1], fabs(word_impact[0])))"
   ]
  },
  {
   "cell_type": "code",
   "execution_count": 112,
   "metadata": {
    "id": "BqHqSmZ1ySeA"
   },
   "outputs": [
    {
     "name": "stdout",
     "output_type": "stream",
     "text": [
      "Using all the words available give better results by 6.16%.\n",
      "Time of evaluation of all the words: 23.93389ms, of limited dictionary: 0.00000ms\n"
     ]
    }
   ],
   "source": [
    "#c) Compare accuracy of predictions and the time of evaluation.\n",
    "print('Using all the words available give better results by {0:.2f}%.'\n",
    "      .format((acc_score_rating_preds-acc_score_dict_rating_preds)*100))\n",
    "print('Time of evaluation of all the words: {0:.5f}ms, of limited dictionary: {1:.5f}ms'.format(rating_preds_time * 1000, rating_dict_preds_time * 1000))\n",
    "#hint: %time, %timeit"
   ]
  },
  {
   "cell_type": "code",
   "execution_count": null,
   "metadata": {},
   "outputs": [],
   "source": []
  },
  {
   "cell_type": "code",
   "execution_count": null,
   "metadata": {},
   "outputs": [],
   "source": []
  }
 ],
 "metadata": {
  "colab": {
   "collapsed_sections": [],
   "name": "Assignment_4_Marcin_Chamera.ipynb",
   "provenance": [],
   "toc_visible": true
  },
  "kernelspec": {
   "display_name": "Python 3",
   "language": "python",
   "name": "python3"
  },
  "language_info": {
   "codemirror_mode": {
    "name": "ipython",
    "version": 3
   },
   "file_extension": ".py",
   "mimetype": "text/x-python",
   "name": "python",
   "nbconvert_exporter": "python",
   "pygments_lexer": "ipython3",
   "version": "3.9.0"
  }
 },
 "nbformat": 4,
 "nbformat_minor": 1
}
